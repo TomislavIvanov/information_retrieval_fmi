{
 "cells": [
  {
   "cell_type": "markdown",
   "metadata": {
    "slideshow": {
     "slide_type": "slide"
    }
   },
   "source": [
    "# Information Retrieval"
   ]
  },
  {
   "cell_type": "markdown",
   "metadata": {},
   "source": [
    "Information retrieval (IR) is finding material (usually documents) of an unstructured nature (usually text) that satisfies an information need from within large collections (usually stored on computers)."
   ]
  },
  {
   "cell_type": "markdown",
   "metadata": {},
   "source": [
    "![Sort-Based-Index](img/treclogo-c.gif)"
   ]
  },
  {
   "cell_type": "markdown",
   "metadata": {},
   "source": [
    "# Conferences\n",
    "\n",
    "Special Interest Group on Information Retrieval: <a href='https://sigir.org'>SIGIR</a> <br>\n",
    "Text REtrieval Conference: <a href='https://trec.nist.gov/proceedings/proceedings.html'>TREC</a>  <br>\n",
    "European Conference on Information Retrieval: <a href='http://www.ecir2018.org/'>ECIR</a>  <br>"
   ]
  },
  {
   "cell_type": "markdown",
   "metadata": {},
   "source": [
    "# Example papers:\n",
    "<ul>\n",
    "<li><a href='http://nrl.northumbria.ac.uk/30863/1/SIGIR2017_Elsweiler.pdf'>Exploiting Food Choice Biases for Healthier <b>Recipe Recommendation</b></a> -> dataset of food reciped with nutrition information crawled from Allrecipes.com\n",
    "<li>CitySearcher: A <b>City Search</b> Engine For Interests \n",
    "<li>A Test Collection for Evaluating <b>Legal Case Law Search</b>\n",
    "<li>Multihop Attention Networks for <b>Question Answer Matching</b>\n",
    "<li>Semantic Location in <b>Email Query Suggestion</b>\n",
    "<li>Online <b>Job Search</b>: Study of Users’ Search Behavior using Search Engine Query Logs\t\n",
    "</ul>"
   ]
  },
  {
   "cell_type": "markdown",
   "metadata": {},
   "source": [
    "# Most Valued Projects:\n",
    "\n",
    "- Something Useful for Sofia University, the Master's Degree, etc. (contact Prof. Koychev)\n",
    "- Participating in Shared Tasks (contact us or Prof. Koychev)\n",
    "\n",
    "## Some project ideas\n",
    "- Grammarly or [Hemingway](http://www.hemingwayapp.com/) for Bulgarian\n",
    "- Collect/crawl questions and answers from exams after 4th/12th grade (there are a lot of on-line resources!). This will serve as a good stating point for building a Machine Reading/Question Answering model for Bulgarian!"
   ]
  },
  {
   "cell_type": "markdown",
   "metadata": {},
   "source": [
    "# Some Shared Tasks\n",
    "\n",
    "## <a href='http://alt.qcri.org/semeval2019/index.php?id=tasks'>SemEval</a>\n",
    "- Fact Checking in Community Question Answering Forums\n",
    "- Suggestion Mining from Online Reviews and Forums\n",
    "- RumourEval 2019: Determining Rumour Veracity and Support for Rumours\n",
    "- many more\n",
    "\n",
    "tbc."
   ]
  },
  {
   "cell_type": "markdown",
   "metadata": {},
   "source": [
    "# Basic (pre-)requisites\n",
    "\n",
    "## Python basics:\n",
    "- http://nbviewer.jupyter.org/github/justmarkham/python-reference/blob/master/reference.ipynb\n",
    "- https://www.cs.put.poznan.pl/csobaniec/software/python/py-qrc.html\n",
    "- https://www.stavros.io/tutorials/python/\n",
    "\n",
    "## Jupyter Notebooks\n",
    "- https://www.dataquest.io/blog/jupyter-notebook-tutorial/\n",
    "\n",
    "## Text Processing Libraries\n",
    "- NLTK - collection of libraries and tools for text processing, created by academics (not production ready)\n",
    "- Spacy - Industrial-Strength Natural Language Processing\n",
    "- scikit-learn - Machine Learning in Python\n",
    "- Pandas - Structures and data analysis tools for Python\n",
    "- Numpy - scientific computing with Python\n",
    "- Keras, TensorFlow, Pythorch- deep learning libraries for Python"
   ]
  },
  {
   "cell_type": "markdown",
   "metadata": {},
   "source": [
    "# Books:\n",
    "## Information Retrieval \n",
    "- Book for the course : https://nlp.stanford.edu/IR-book/information-retrieval-book.html\n",
    "## NLP\n",
    "- Foundations of Statistical Natural Language Processing https://nlp.stanford.edu/fsnlp/\n",
    "- Speech and Language Processing (you can find also Youtube videos https://web.stanford.edu/~jurafsky/slp3/ )"
   ]
  },
  {
   "cell_type": "markdown",
   "metadata": {},
   "source": [
    "# Online sources\n",
    "\n",
    "## Search for papers to find relevant work and existing approaches\n",
    "- https://scholar.google.com/\n",
    "- https://www.researchgate.net/\n",
    "\n",
    "## Corpora\n",
    "- https://toolbox.google.com/datasetsearch\n",
    "- https://www.kaggle.com/\n",
    "- https://archive.ics.uci.edu/ml/datasets.html\n",
    "\n",
    "## Facebook groups\n",
    "- https://www.facebook.com/groups/1034542806576291/\n",
    "- https://www.facebook.com/groups/829586007120477/\n",
    "- https://www.facebook.com/groups/machine.learning.bg/\n",
    "- https://www.facebook.com/datasciencesoc/\n",
    "\n",
    "## Misc\n",
    "- https://www.kdnuggets.com/\n",
    "- https://machinelearningmastery.com/start-here/\n",
    "- https://nlpprogress.com/ - latest research in NLP\n",
    "- https://paperswithcode.com/ - implementations of papers"
   ]
  },
  {
   "cell_type": "markdown",
   "metadata": {},
   "source": [
    "# Incidence Matrixes"
   ]
  },
  {
   "cell_type": "code",
   "execution_count": 49,
   "metadata": {},
   "outputs": [],
   "source": [
    "sample_bbc_news_sentences = [\n",
    "    \"China confirms Interpol chief detained\",\n",
    "    \"Turkish officials believe the Washington Post writer was killed in the Saudi consulate in Istanbul.\",\n",
    "    \"US wedding limousine crash kills 20\",\n",
    "    \"Bulgarian journalist killed in park\",\n",
    "    \"Kanye West deletes social media profiles\",\n",
    "    \"Brazilians vote in polarised election\",\n",
    "    \"Bull kills woman at French festival\",\n",
    "    \"Indonesia to wrap up tsunami search\",\n",
    "    \"Tina Turner reveals wedding night ordeal\",\n",
    "    \"Victory for Trump in Supreme Court battle\",\n",
    "    \"Clashes at German far-right rock concert\",\n",
    "    \"The Walking Dead actor dies aged 76\",\n",
    "    \"Jogger in Netherlands finds lion cub\",\n",
    "    \"Monkey takes the wheel of Indian bus\"\n",
    "]"
   ]
  },
  {
   "cell_type": "code",
   "execution_count": 50,
   "metadata": {},
   "outputs": [
    {
     "data": {
      "text/plain": [
       "['China', 'confirms', 'Interpol', 'chief', 'detained']"
      ]
     },
     "execution_count": 50,
     "metadata": {},
     "output_type": "execute_result"
    }
   ],
   "source": [
    "#basic tokenization\n",
    "from nltk.tokenize import TweetTokenizer\n",
    "\n",
    "tokenizer = TweetTokenizer()\n",
    "sample_bbc_news_sentences_tokenized = [tokenizer.tokenize(sent) \n",
    "                            for sent in sample_bbc_news_sentences]\n",
    "sample_bbc_news_sentences_tokenized[0]"
   ]
  },
  {
   "cell_type": "code",
   "execution_count": 51,
   "metadata": {},
   "outputs": [
    {
     "data": {
      "text/plain": [
       "['china', 'confirms', 'interpol', 'chief', 'detained']"
      ]
     },
     "execution_count": 51,
     "metadata": {},
     "output_type": "execute_result"
    }
   ],
   "source": [
    "sample_bbc_news_sentences_tokenized_lower = [[_t.lower() \n",
    "                                              for _t in _s] \n",
    "                for _s in sample_bbc_news_sentences_tokenized]\n",
    "sample_bbc_news_sentences_tokenized_lower[0]"
   ]
  },
  {
   "cell_type": "code",
   "execution_count": 52,
   "metadata": {
    "scrolled": true
   },
   "outputs": [
    {
     "data": {
      "text/plain": [
       "['deletes', 'social', 'bull', 'tsunami', 'actor']"
      ]
     },
     "execution_count": 52,
     "metadata": {},
     "output_type": "execute_result"
    }
   ],
   "source": [
    "#get all unique tokens\n",
    "unique_tokens = set(sum(sample_bbc_news_sentences_tokenized_lower, []))\n",
    "list(unique_tokens)[:5]"
   ]
  },
  {
   "cell_type": "code",
   "execution_count": 55,
   "metadata": {
    "scrolled": true
   },
   "outputs": [
    {
     "name": "stdout",
     "output_type": "stream",
     "text": [
      "[[0 0 0 ... 0 0 0]\n",
      " [0 0 0 ... 0 0 0]\n",
      " [0 0 0 ... 0 0 0]\n",
      " ...\n",
      " [0 0 1 ... 0 0 0]\n",
      " [0 1 0 ... 0 0 0]\n",
      " [0 1 0 ... 0 0 0]]\n"
     ]
    }
   ],
   "source": [
    "# create incidence matrix (term-document frequency)\n",
    "import numpy as np\n",
    "incidence_matrix = np.array([[sent.count(token) for sent in sample_bbc_news_sentences_tokenized_lower] \n",
    "                    for token in unique_tokens])\n",
    "print(incidence_matrix)"
   ]
  },
  {
   "cell_type": "markdown",
   "metadata": {},
   "source": [
    "For a bigger vocab can take too much memory (number of tokens * number of documents), while also being sparse!"
   ]
  },
  {
   "cell_type": "markdown",
   "metadata": {},
   "source": [
    "![Inverted Index](img/inverted-index.png)"
   ]
  },
  {
   "cell_type": "markdown",
   "metadata": {},
   "source": [
    "# Dataset \n",
    "https://archive.ics.uci.edu/ml/datasets/Twenty+Newsgroups "
   ]
  },
  {
   "cell_type": "code",
   "execution_count": 6,
   "metadata": {},
   "outputs": [
    {
     "name": "stdout",
     "output_type": "stream",
     "text": [
      "52464 52830 53589 53676 53750 53820 53871 53918 54041 54111 54157 54248 54337\n",
      "52758 53508 53640 53683 53769 53824 53872 53921 54042 54114 54160 54255 54353\n",
      "52766 53511 53641 53692 53772 53829 53891 53935 54057 54115 54165 54265 54489\n",
      "52792 53521 53653 53706 53777 53837 53892 53938 54066 54122 54175 54302 54490\n",
      "52794 53529 53655 53708 53804 53839 53909 53971 54069 54132 54176 54305\n",
      "52817 53569 53664 53712 53808 53850 53911 53976 54090 54140 54212 54306\n",
      "52820 53574 53669 53741 53812 53865 53913 53986 54092 54143 54224 54310\n",
      "52822 53584 53675 53742 53818 53868 53915 54010 54096 54147 54244 54325\n",
      "Lines: 48\n",
      "\n",
      "In article <1993Mar25.161909.8110@wuecl.wustl.edu> dp@cec1.wustl.edu (David Prutchi) writes:\n",
      ">In article <C4CntG.Jv4@spk.hp.com> long@spk.hp.com (Jerry Long) writes:\n",
      ">>Fred W. Culpepper (fculpepp@norfolk.vak12ed.edu) wrote:\n",
      ">>[...]\n",
      ">>A couple of years ago I put together a Tesla circuit which\n",
      ">>was published in an electronics magazine and could have been\n",
      ">>the circuit which is referred to here. This one used a\n",
      ">>flyback transformer from a tv onto which you wound your own\n"
     ]
    }
   ],
   "source": [
    "!ls data/mini_newsgroups/sci.electronics/\n",
    "!tail -50 data/mini_newsgroups/sci.electronics/52464 | head -10"
   ]
  },
  {
   "cell_type": "markdown",
   "metadata": {},
   "source": [
    "# You will now have to construct the Inverted Index - only the dictionary part (term and #docs)"
   ]
  },
  {
   "cell_type": "code",
   "execution_count": 36,
   "metadata": {},
   "outputs": [],
   "source": [
    "from nltk.tokenize import sent_tokenize\n",
    "from collections import defaultdict, Counter\n",
    "from string import punctuation\n",
    "import os"
   ]
  },
  {
   "cell_type": "code",
   "execution_count": 37,
   "metadata": {
    "code_folding": []
   },
   "outputs": [],
   "source": [
    "def preprocess_document(content):\n",
    "    \"\"\"\n",
    "    Returns a list of tokens for a document's content. \n",
    "    Tokens should not contain punctuation and should be lower-cased.\n",
    "    \"\"\"\n",
    "    pass\n",
    "\n",
    "def prepare_dataset(documents_dir):\n",
    "    \"\"\"\n",
    "    Returns list of documents in the documents_dir, where each document is a list of its tokens. \n",
    "    \n",
    "    \"\"\"\n",
    "    pass"
   ]
  },
  {
   "cell_type": "markdown",
   "metadata": {
    "scrolled": true
   },
   "source": [
    "__Example Output: __ <br>\n",
    "\n",
    "prepare_dataset('data/mini_newsgroups/talk.politics.guns/')\n",
    "\n",
    ">Found documents:  100 <br>\n",
    ">[['path', 'cantaloupe.srv.cs.cmu.edu', 'crabapple.srv.cs.cmu.edu', 'fs7.ece.cmu.edu', 'europa.eng.gtefsd.com', 'howland.reston.ans.net', 'wupost', 'cs.utexas.edu', 'uunet', 'olivea', 'sgigate','sgiblab','adagio.panasonic.com',..."
   ]
  },
  {
   "cell_type": "code",
   "execution_count": 45,
   "metadata": {},
   "outputs": [],
   "source": [
    "def document_frequency(tokenized_documents):\n",
    "    \"\"\"\n",
    "    Returns a dictionary {token:number of documents containing the token}\n",
    "    \"\"\"\n",
    "    pass"
   ]
  },
  {
   "cell_type": "markdown",
   "metadata": {},
   "source": [
    "__Example Output:__<br><br>\n",
    "selected_category = 'data/mini_newsgroups/sci.crypt/' <br>\n",
    "print(selected_category) <br>\n",
    "tokenized_dataset = prepare_dataset(selected_category) <br>\n",
    "print(\"Sample tokenized document:\") <br>\n",
    "print(tokenized_dataset[0][:10])\n",
    "\n",
    "> data/mini_newsgroups/sci.crypt/<br>\n",
    "> Found documents:  100<br>\n",
    "> Sample tokenized document:<br>\n",
    "> ['newsgroups', 'sci.crypt', 'path', 'cantaloupe.srv.cs.cmu.edu', 'rochester', 'udel', 'bogus.sura.net', 'howland.reston.ans.net', 'torn', 'nott']\n",
    "\n",
    "df = document_frequency(tokenized_dataset) <br>\n",
    "print(\"Most common words:\")<br>\n",
    "print(Counter(df).most_common(10))<br>\n",
    "print(\"Least common words:\")<br>\n",
    "print(Counter(df).most_common()[-10:])<br>\n",
    "\n",
    ">Most common words:<br>\n",
    ">[('apr', 100), ('newsgroups', 100), ('path', 100), ('message-id', 100), ('cantaloupe.srv.cs.cmu.edu', 100), ('from', 100), ('date', 100), ('sci.crypt', 100), ('subject', 100), ('lines', 99)]<br>\n",
    ">Least common words:<br>\n",
    ">[('herndon', 1), ('type', 1), ('stu-iii', 1), ('confident', 1), ('elephants', 1), ('ii', 1), ('combined', 1), ('fuzzy', 1), ('myktotronx', 1), ('amanda@intercon.com', 1)]"
   ]
  },
  {
   "cell_type": "markdown",
   "metadata": {},
   "source": [
    "## __Questions__: \n",
    "- Which words have highest and which lowest Total freq?\n",
    "- What are some examples of inverted indexes we have seen in life?\n",
    "- Why do we use inverted indexes?"
   ]
  },
  {
   "cell_type": "markdown",
   "metadata": {},
   "source": [
    "![Sort-Based-Index](img/sort-based-method.png)"
   ]
  },
  {
   "cell_type": "markdown",
   "metadata": {},
   "source": [
    "# What's next in research:\n",
    "\n",
    "- <a href='http://nbjl.nankai.edu.cn/Lab_Papers/2018/SIGIR2018.pdf'>Index Compression for BitFunnel Query Processing</a>\n",
    "- <a href='https://link.springer.com/chapter/10.1007/978-3-319-76941-7_47'>Inverted List Caching for Topical Index Shards</a>\n"
   ]
  }
 ],
 "metadata": {
  "kernelspec": {
   "display_name": "Python 3",
   "language": "python",
   "name": "python3"
  },
  "language_info": {
   "codemirror_mode": {
    "name": "ipython",
    "version": 3
   },
   "file_extension": ".py",
   "mimetype": "text/x-python",
   "name": "python",
   "nbconvert_exporter": "python",
   "pygments_lexer": "ipython3",
   "version": "3.6.4"
  },
  "toc": {
   "base_numbering": 1,
   "nav_menu": {},
   "number_sections": true,
   "sideBar": true,
   "skip_h1_title": false,
   "title_cell": "Table of Contents",
   "title_sidebar": "Contents",
   "toc_cell": false,
   "toc_position": {},
   "toc_section_display": true,
   "toc_window_display": false
  }
 },
 "nbformat": 4,
 "nbformat_minor": 2
}
